{
 "cells": [
  {
   "cell_type": "markdown",
   "metadata": {},
   "source": [
    "# Hangul (Polyglot)"
   ]
  },
  {
   "cell_type": "markdown",
   "metadata": {},
   "source": [
    "## Tests"
   ]
  },
  {
   "cell_type": "code",
   "execution_count": null,
   "metadata": {
    "dotnet_interactive": {
     "language": "spiral"
    },
    "polyglot_notebook": {
     "kernelName": "spiral"
    }
   },
   "outputs": [],
   "source": [
    "//// package=../alphabet/apps/hangul\n",
    "\n",
    "open testing"
   ]
  },
  {
   "cell_type": "code",
   "execution_count": null,
   "metadata": {
    "dotnet_interactive": {
     "language": "fsharp"
    },
    "polyglot_notebook": {
     "kernelName": "fsharp"
    }
   },
   "outputs": [],
   "source": [
    "let AssertAreEqual (expected: 'T, actual: 'T) =\n",
    "    if expected <> actual then\n",
    "        failwithf \"Expected %A but got %A\" expected actual\n",
    "\n",
    "let AssertIsTrue (condition: bool) =\n",
    "    if not condition then\n",
    "        failwith \"Expected condition to be true.\"\n",
    "\n",
    "let AssertIsFalse (condition: bool) =\n",
    "    if condition then\n",
    "        failwith \"Expected condition to be false.\""
   ]
  },
  {
   "cell_type": "markdown",
   "metadata": {},
   "source": [
    "## Hanja"
   ]
  },
  {
   "cell_type": "code",
   "execution_count": null,
   "metadata": {
    "dotnet_interactive": {
     "language": "fsharp"
    },
    "polyglot_notebook": {
     "kernelName": "fsharp"
    }
   },
   "outputs": [],
   "source": [
    "#!import ../../../alphabet/apps/hangul/hanja.fs\n",
    "\n",
    "// let hanjaToHangulTable =\n",
    "//     [|\n",
    "//         0x4906, 0xaddc; 0x6d89, 0xc12d; 0x920c, 0xacb0; 0x3c93, 0xc218; 0x6116, 0xc2ec; 0x8599, 0xce58;\n",
    "//         0x54a3, 0xad49; 0x7926, 0xad11; 0x9da9, 0xbaa9; 0x4830, 0xad8c; 0x6cb3, 0xd558; 0x9136, 0xd68c;\n",
    "//         // (...)\n",
    "//         0x47d0, 0xb825; 0x84d2, 0xd55c; 0x5a59, 0xc815; 0x975b, 0xc804; 0x6ce2, 0xd30c; 0x4269, 0xad6c;\n",
    "//         0x7f6b, 0xad18; 0x54f2, 0xcca0; 0x91f4, 0xc775; 0x677b, 0xb274\n",
    "//     |]\n",
    "//     |> Map.ofArray"
   ]
  },
  {
   "cell_type": "code",
   "execution_count": null,
   "metadata": {
    "dotnet_interactive": {
     "language": "spiral"
    },
    "polyglot_notebook": {
     "kernelName": "spiral"
    }
   },
   "outputs": [
    {
     "name": "stdout",
     "output_type": "stream",
     "text": [
      "27496\n"
     ]
    }
   ],
   "source": [
    "//// test\n",
    "\n",
    "hanja.hanja_to_hangul_table ()\n",
    "|> fun x => a x : a int _\n",
    "|> am'.length\n",
    "|> console.write_line"
   ]
  },
  {
   "cell_type": "markdown",
   "metadata": {},
   "source": [
    "### hanjaConvert"
   ]
  },
  {
   "cell_type": "code",
   "execution_count": null,
   "metadata": {
    "dotnet_interactive": {
     "language": "fsharp"
    },
    "polyglot_notebook": {
     "kernelName": "fsharp"
    }
   },
   "outputs": [],
   "source": [
    "let hanjaConvert (s: string) =\n",
    "    s\n",
    "    |> Seq.map (fun c ->\n",
    "        match hanjaToHangulTable.TryFind(int c) with\n",
    "        | Some h -> char h\n",
    "        | None -> c\n",
    "    )\n",
    "    |> String.Concat"
   ]
  },
  {
   "cell_type": "code",
   "execution_count": null,
   "metadata": {
    "dotnet_interactive": {
     "language": "fsharp"
    },
    "polyglot_notebook": {
     "kernelName": "fsharp"
    }
   },
   "outputs": [],
   "source": [
    "//// test\n",
    "\n",
    "AssertAreEqual(\"국어\", hanjaConvert \"國語\")"
   ]
  },
  {
   "cell_type": "code",
   "execution_count": null,
   "metadata": {
    "dotnet_interactive": {
     "language": "spiral"
    },
    "polyglot_notebook": {
     "kernelName": "spiral"
    }
   },
   "outputs": [],
   "source": [
    "inl hanja_convert (s : string) =\n",
    "    \"\""
   ]
  },
  {
   "cell_type": "code",
   "execution_count": null,
   "metadata": {
    "dotnet_interactive": {
     "language": "spiral"
    },
    "polyglot_notebook": {
     "kernelName": "spiral"
    }
   },
   "outputs": [
    {
     "name": "stdout",
     "output_type": "stream",
     "text": [
      "{ name = __assert_eq; actual = ; expected =  }\n"
     ]
    }
   ],
   "source": [
    "//// test\n",
    "\n",
    "\"國語\"\n",
    "|> hanja_convert\n",
    "|> _assert_eq \"\" // \"국어\""
   ]
  },
  {
   "cell_type": "markdown",
   "metadata": {},
   "source": [
    "### isHanja"
   ]
  },
  {
   "cell_type": "code",
   "execution_count": null,
   "metadata": {
    "dotnet_interactive": {
     "language": "fsharp"
    },
    "polyglot_notebook": {
     "kernelName": "fsharp"
    }
   },
   "outputs": [],
   "source": [
    "let isHanja (c: char) =\n",
    "    hanjaToHangulTable.ContainsKey(int c)"
   ]
  },
  {
   "cell_type": "code",
   "execution_count": null,
   "metadata": {
    "dotnet_interactive": {
     "language": "fsharp"
    },
    "polyglot_notebook": {
     "kernelName": "fsharp"
    }
   },
   "outputs": [],
   "source": [
    "//// test\n",
    "\n",
    "AssertIsTrue(isHanja '國')"
   ]
  },
  {
   "cell_type": "code",
   "execution_count": null,
   "metadata": {
    "dotnet_interactive": {
     "language": "fsharp"
    },
    "polyglot_notebook": {
     "kernelName": "fsharp"
    }
   },
   "outputs": [],
   "source": [
    "//// test\n",
    "\n",
    "AssertIsFalse(isHanja '가')"
   ]
  },
  {
   "cell_type": "markdown",
   "metadata": {},
   "source": [
    "## Hangul"
   ]
  },
  {
   "cell_type": "markdown",
   "metadata": {},
   "source": [
    "### Literals"
   ]
  },
  {
   "cell_type": "code",
   "execution_count": null,
   "metadata": {
    "dotnet_interactive": {
     "language": "fsharp"
    },
    "polyglot_notebook": {
     "kernelName": "fsharp"
    }
   },
   "outputs": [],
   "source": [
    "let [<Literal>] G = 0x3131\n",
    "let [<Literal>] GG = 0x3132\n",
    "let [<Literal>] GS = 0x3133\n",
    "let [<Literal>] N = 0x3134\n",
    "let [<Literal>] NJ = 0x3135\n",
    "let [<Literal>] NH = 0x3136\n",
    "let [<Literal>] D = 0x3137\n",
    "let [<Literal>] DD = 0x3138\n",
    "let [<Literal>] L = 0x3139\n",
    "let [<Literal>] LG = 0x313a\n",
    "let [<Literal>] LM = 0x313b\n",
    "let [<Literal>] LB = 0x313c\n",
    "let [<Literal>] LS = 0x313d\n",
    "let [<Literal>] LT = 0x313e\n",
    "let [<Literal>] LP = 0x313f\n",
    "let [<Literal>] LH = 0x3140\n",
    "let [<Literal>] M = 0x3141\n",
    "let [<Literal>] B = 0x3142\n",
    "let [<Literal>] BB = 0x3143\n",
    "let [<Literal>] BS = 0x3144\n",
    "let [<Literal>] S = 0x3145\n",
    "let [<Literal>] SS = 0x3146\n",
    "let [<Literal>] ZS = 0x3147\n",
    "let [<Literal>] J = 0x3148\n",
    "let [<Literal>] JJ = 0x3149\n",
    "let [<Literal>] C = 0x314a\n",
    "let [<Literal>] K = 0x314b\n",
    "let [<Literal>] T = 0x314c\n",
    "let [<Literal>] P = 0x314d\n",
    "let [<Literal>] H = 0x314e\n",
    "let [<Literal>] A = 0x314f\n",
    "let [<Literal>] AE = 0x3150\n",
    "let [<Literal>] YA = 0x3151\n",
    "let [<Literal>] YAE = 0x3152\n",
    "let [<Literal>] EO = 0x3153\n",
    "let [<Literal>] E = 0x3154\n",
    "let [<Literal>] YEO = 0x3155\n",
    "let [<Literal>] YE = 0x3156\n",
    "let [<Literal>] O = 0x3157\n",
    "let [<Literal>] WA = 0x3158\n",
    "let [<Literal>] WAE = 0x3159\n",
    "let [<Literal>] OE = 0x315a\n",
    "let [<Literal>] YO = 0x315b\n",
    "let [<Literal>] U = 0x315c\n",
    "let [<Literal>] WEO = 0x315d\n",
    "let [<Literal>] WE = 0x315e\n",
    "let [<Literal>] WI = 0x315f\n",
    "let [<Literal>] YU = 0x3160\n",
    "let [<Literal>] EU = 0x3161\n",
    "let [<Literal>] YI = 0x3162\n",
    "let [<Literal>] I = 0x3163\n",
    "let [<Literal>] LeadG = 0x1100\n",
    "let [<Literal>] LeadGG = 0x1101\n",
    "let [<Literal>] LeadN = 0x1102\n",
    "let [<Literal>] LeadD = 0x1103\n",
    "let [<Literal>] LeadDD = 0x1104\n",
    "let [<Literal>] LeadR = 0x1105\n",
    "let [<Literal>] LeadM = 0x1106\n",
    "let [<Literal>] LeadB = 0x1107\n",
    "let [<Literal>] LeadBB = 0x1108\n",
    "let [<Literal>] LeadS = 0x1109\n",
    "let [<Literal>] LeadSS = 0x110a\n",
    "let [<Literal>] LeadZS = 0x110b\n",
    "let [<Literal>] LeadJ = 0x110c\n",
    "let [<Literal>] LeadJJ = 0x110d\n",
    "let [<Literal>] LeadC = 0x110e\n",
    "let [<Literal>] LeadK = 0x110f\n",
    "let [<Literal>] LeadT = 0x1110\n",
    "let [<Literal>] LeadP = 0x1111\n",
    "let [<Literal>] LeadH = 0x1112\n",
    "let [<Literal>] MedialA = 0x1161\n",
    "let [<Literal>] MedialAE = 0x1162\n",
    "let [<Literal>] MedialYA = 0x1163\n",
    "let [<Literal>] MedialYAE = 0x1164\n",
    "let [<Literal>] MedialEO = 0x1165\n",
    "let [<Literal>] MedialE = 0x1166\n",
    "let [<Literal>] MedialYEO = 0x1167\n",
    "let [<Literal>] MedialYE = 0x1168\n",
    "let [<Literal>] MedialO = 0x1169\n",
    "let [<Literal>] MedialWA = 0x116a\n",
    "let [<Literal>] MedialWAE = 0x116b\n",
    "let [<Literal>] MedialOE = 0x116c\n",
    "let [<Literal>] MedialYO = 0x116d\n",
    "let [<Literal>] MedialU = 0x116e\n",
    "let [<Literal>] MedialWEO = 0x116f\n",
    "let [<Literal>] MedialWE = 0x1170\n",
    "let [<Literal>] MedialWI = 0x1171\n",
    "let [<Literal>] MedialYU = 0x1172\n",
    "let [<Literal>] MedialEU = 0x1173\n",
    "let [<Literal>] MedialYI = 0x1174\n",
    "let [<Literal>] MedialI = 0x1175\n",
    "let [<Literal>] TailG = 0x11a8\n",
    "let [<Literal>] TailGG = 0x11a9\n",
    "let [<Literal>] TailGS = 0x11aa\n",
    "let [<Literal>] TailN = 0x11ab\n",
    "let [<Literal>] TailNJ = 0x11ac\n",
    "let [<Literal>] TailNH = 0x11ad\n",
    "let [<Literal>] TailD = 0x11ae\n",
    "let [<Literal>] TailL = 0x11af\n",
    "let [<Literal>] TailLG = 0x11b0\n",
    "let [<Literal>] TailLM = 0x11b1\n",
    "let [<Literal>] TailLB = 0x11b2\n",
    "let [<Literal>] TailLS = 0x11b3\n",
    "let [<Literal>] TailLT = 0x11b4\n",
    "let [<Literal>] TailLP = 0x11b5\n",
    "let [<Literal>] TailLH = 0x11b6\n",
    "let [<Literal>] TailM = 0x11b7\n",
    "let [<Literal>] TailB = 0x11b8\n",
    "let [<Literal>] TailBS = 0x11b9\n",
    "let [<Literal>] TailS = 0x11ba\n",
    "let [<Literal>] TailSS = 0x11bb\n",
    "let [<Literal>] TailNG = 0x11bc\n",
    "let [<Literal>] TailJ = 0x11bd\n",
    "let [<Literal>] TailC = 0x11be\n",
    "let [<Literal>] TailK = 0x11bf\n",
    "let [<Literal>] TailT = 0x11c0\n",
    "let [<Literal>] TailP = 0x11c1\n",
    "let [<Literal>] TailH = 0x11c2\n",
    "\n",
    "let [<Literal>] leadBase = 0x1100\n",
    "let [<Literal>] medialBase = 0x1161\n",
    "let [<Literal>] tailBase = 0x11A8\n",
    "\n",
    "let [<Literal>] maxLeadIdx = LeadH - LeadG\n",
    "let [<Literal>] maxMedialIdx = MedialI - MedialA\n",
    "let [<Literal>] maxTailIdx = TailH - TailG"
   ]
  },
  {
   "cell_type": "markdown",
   "metadata": {},
   "source": [
    "### toCompatJamoMap"
   ]
  },
  {
   "cell_type": "code",
   "execution_count": null,
   "metadata": {
    "dotnet_interactive": {
     "language": "fsharp"
    },
    "polyglot_notebook": {
     "kernelName": "fsharp"
    }
   },
   "outputs": [],
   "source": [
    "let toCompatJamoMap =\n",
    "    Map.ofList [\n",
    "        (LeadG, G); (LeadGG, GG); (LeadN, N); (LeadD, D); (LeadDD, DD);\n",
    "        (LeadR, L); (LeadM, M); (LeadB, B); (LeadBB, BB); (LeadS, S);\n",
    "        (LeadSS, SS); (LeadZS, ZS); (LeadJ, J); (LeadJJ, JJ); (LeadC, C);\n",
    "        (LeadK, K); (LeadT, T); (LeadP, P); (LeadH, H); (TailG, G);\n",
    "        (TailGG, GG); (TailGS, GS); (TailN, N); (TailNJ, NJ); (TailNH, NH);\n",
    "        (TailD, D); (TailL, L); (TailLG, LG); (TailLM, LM); (TailLB, LB);\n",
    "        (TailLS, LS); (TailLT, LT); (TailLP, LP); (TailLH, LH); (TailM, M);\n",
    "        (TailB, B); (TailBS, BS); (TailS, S); (TailSS, SS); (TailNG, ZS);\n",
    "        (TailJ, J); (TailC, C); (TailK, K); (TailT, T); (TailP, P); (TailH, H)\n",
    "    ]"
   ]
  },
  {
   "cell_type": "markdown",
   "metadata": {},
   "source": [
    "### compatJamo"
   ]
  },
  {
   "cell_type": "code",
   "execution_count": null,
   "metadata": {
    "dotnet_interactive": {
     "language": "fsharp"
    },
    "polyglot_notebook": {
     "kernelName": "fsharp"
    }
   },
   "outputs": [],
   "source": [
    "let compatJamo (r: char) =\n",
    "    let r' = int r\n",
    "    if r' >= G && r' <= H then Some r\n",
    "    elif r' >= A && r' <= I then Some r\n",
    "    elif r' >= MedialA && r' <= MedialI then\n",
    "        char (r' - medialBase + A) |> Some\n",
    "    else\n",
    "        toCompatJamoMap.TryFind(r') |> Option.map char"
   ]
  },
  {
   "cell_type": "code",
   "execution_count": null,
   "metadata": {
    "dotnet_interactive": {
     "language": "fsharp"
    },
    "polyglot_notebook": {
     "kernelName": "fsharp"
    }
   },
   "outputs": [],
   "source": [
    "//// test\n",
    "\n",
    "AssertAreEqual(char G |> Some, compatJamo (char LeadG))"
   ]
  },
  {
   "cell_type": "code",
   "execution_count": null,
   "metadata": {
    "dotnet_interactive": {
     "language": "fsharp"
    },
    "polyglot_notebook": {
     "kernelName": "fsharp"
    }
   },
   "outputs": [],
   "source": [
    "//// test\n",
    "\n",
    "AssertAreEqual(char A |> Some, compatJamo (char MedialA))"
   ]
  },
  {
   "cell_type": "code",
   "execution_count": null,
   "metadata": {
    "dotnet_interactive": {
     "language": "fsharp"
    },
    "polyglot_notebook": {
     "kernelName": "fsharp"
    }
   },
   "outputs": [],
   "source": [
    "//// test\n",
    "\n",
    "AssertAreEqual(char L |> Some, compatJamo (char TailL))"
   ]
  },
  {
   "cell_type": "code",
   "execution_count": null,
   "metadata": {
    "dotnet_interactive": {
     "language": "fsharp"
    },
    "polyglot_notebook": {
     "kernelName": "fsharp"
    }
   },
   "outputs": [],
   "source": [
    "//// test\n",
    "\n",
    "AssertAreEqual(char B |> Some, compatJamo (char B))"
   ]
  },
  {
   "cell_type": "code",
   "execution_count": null,
   "metadata": {
    "dotnet_interactive": {
     "language": "fsharp"
    },
    "polyglot_notebook": {
     "kernelName": "fsharp"
    }
   },
   "outputs": [],
   "source": [
    "//// test\n",
    "\n",
    "AssertAreEqual(None, compatJamo 'a')"
   ]
  },
  {
   "cell_type": "markdown",
   "metadata": {},
   "source": [
    "### isHangul"
   ]
  },
  {
   "cell_type": "code",
   "execution_count": null,
   "metadata": {
    "dotnet_interactive": {
     "language": "fsharp"
    },
    "polyglot_notebook": {
     "kernelName": "fsharp"
    }
   },
   "outputs": [],
   "source": [
    "let isHangul (r: char) =\n",
    "    let r = int r\n",
    "    match r with\n",
    "    | _ when r >= 0xAC00 && r <= 0xD7A3 -> true\n",
    "    | _ when (r >= G && r <= H) -> true\n",
    "    | _ when (r >= LeadG && r <= LeadH) -> true\n",
    "    | _ when (r >= MedialA && r <= MedialI) -> true\n",
    "    | _ when (r >= TailG && r <= TailH) -> true\n",
    "    | _ -> false"
   ]
  },
  {
   "cell_type": "markdown",
   "metadata": {},
   "source": [
    "### isJaeum"
   ]
  },
  {
   "cell_type": "code",
   "execution_count": null,
   "metadata": {
    "dotnet_interactive": {
     "language": "fsharp"
    },
    "polyglot_notebook": {
     "kernelName": "fsharp"
    }
   },
   "outputs": [],
   "source": [
    "let isJaeum (r: char) =\n",
    "    let r = int r\n",
    "    match r with\n",
    "    | _ when r >= G && r <= H -> true\n",
    "    | _ when r >= LeadG && r <= LeadH -> true\n",
    "    | _ when r >= TailG && r <= TailH -> true\n",
    "    | _ -> false"
   ]
  },
  {
   "cell_type": "markdown",
   "metadata": {},
   "source": [
    "### isMoeum"
   ]
  },
  {
   "cell_type": "code",
   "execution_count": null,
   "metadata": {
    "dotnet_interactive": {
     "language": "fsharp"
    },
    "polyglot_notebook": {
     "kernelName": "fsharp"
    }
   },
   "outputs": [],
   "source": [
    "let isMoeum (r: char) =\n",
    "    let r = int r\n",
    "    match r with\n",
    "    | _ when r >= A && r <= I -> true\n",
    "    | _ when r >= MedialA && r <= MedialI -> true\n",
    "    | _ -> false"
   ]
  },
  {
   "cell_type": "markdown",
   "metadata": {},
   "source": [
    "### leadIdx"
   ]
  },
  {
   "cell_type": "code",
   "execution_count": null,
   "metadata": {
    "dotnet_interactive": {
     "language": "fsharp"
    },
    "polyglot_notebook": {
     "kernelName": "fsharp"
    }
   },
   "outputs": [],
   "source": [
    "let leadIdx (r: int) =\n",
    "    let i = r - leadBase\n",
    "    if i >= 0 && i <= maxLeadIdx then Some i\n",
    "    else None"
   ]
  },
  {
   "cell_type": "markdown",
   "metadata": {},
   "source": [
    "### medialIdx"
   ]
  },
  {
   "cell_type": "code",
   "execution_count": null,
   "metadata": {
    "dotnet_interactive": {
     "language": "fsharp"
    },
    "polyglot_notebook": {
     "kernelName": "fsharp"
    }
   },
   "outputs": [],
   "source": [
    "let medialIdx (r: int) =\n",
    "    let i = r - medialBase\n",
    "    if i >= 0 && i <= maxMedialIdx then Some i\n",
    "    else None"
   ]
  },
  {
   "cell_type": "markdown",
   "metadata": {},
   "source": [
    "### tailIdx"
   ]
  },
  {
   "cell_type": "code",
   "execution_count": null,
   "metadata": {
    "dotnet_interactive": {
     "language": "fsharp"
    },
    "polyglot_notebook": {
     "kernelName": "fsharp"
    }
   },
   "outputs": [],
   "source": [
    "let tailIdx (r: int) =\n",
    "    if r = 0 then Some 0\n",
    "    else\n",
    "        let i = r - tailBase\n",
    "        if i >= 0 && i <= maxTailIdx then Some (i + 1)\n",
    "        else None"
   ]
  },
  {
   "cell_type": "markdown",
   "metadata": {},
   "source": [
    "### toLead"
   ]
  },
  {
   "cell_type": "code",
   "execution_count": null,
   "metadata": {
    "dotnet_interactive": {
     "language": "fsharp"
    },
    "polyglot_notebook": {
     "kernelName": "fsharp"
    }
   },
   "outputs": [],
   "source": [
    "let toLead (r: int) =\n",
    "    match r with\n",
    "    | G -> Some LeadG\n",
    "    | GG -> Some LeadGG\n",
    "    | N -> Some LeadN\n",
    "    | D -> Some LeadD\n",
    "    | DD -> Some LeadDD\n",
    "    | L -> Some LeadR\n",
    "    | M -> Some LeadM\n",
    "    | B -> Some LeadB\n",
    "    | BB -> Some LeadBB\n",
    "    | S -> Some LeadS\n",
    "    | SS -> Some LeadSS\n",
    "    | ZS -> Some LeadZS\n",
    "    | J -> Some LeadJ\n",
    "    | JJ -> Some LeadJJ\n",
    "    | C -> Some LeadC\n",
    "    | K -> Some LeadK\n",
    "    | T -> Some LeadT\n",
    "    | P -> Some LeadP\n",
    "    | H -> Some LeadH\n",
    "    | _ -> None"
   ]
  },
  {
   "cell_type": "markdown",
   "metadata": {},
   "source": [
    "### toMedial"
   ]
  },
  {
   "cell_type": "code",
   "execution_count": null,
   "metadata": {
    "dotnet_interactive": {
     "language": "fsharp"
    },
    "polyglot_notebook": {
     "kernelName": "fsharp"
    }
   },
   "outputs": [],
   "source": [
    "let toMedial (r: int) =\n",
    "    if r >= A && r <= I then Some(r - A + MedialA)\n",
    "    else None"
   ]
  },
  {
   "cell_type": "markdown",
   "metadata": {},
   "source": [
    "### toTail"
   ]
  },
  {
   "cell_type": "code",
   "execution_count": null,
   "metadata": {
    "dotnet_interactive": {
     "language": "fsharp"
    },
    "polyglot_notebook": {
     "kernelName": "fsharp"
    }
   },
   "outputs": [],
   "source": [
    "let toTail (r: int) =\n",
    "    match r with\n",
    "    | G -> Some TailG\n",
    "    | GG -> Some TailGG\n",
    "    | GS -> Some TailGS\n",
    "    | N -> Some TailN\n",
    "    | NJ -> Some TailNJ\n",
    "    | NH -> Some TailNH\n",
    "    | D -> Some TailD\n",
    "    | L -> Some TailL\n",
    "    | LG -> Some TailLG\n",
    "    | LM -> Some TailLM\n",
    "    | LB -> Some TailLB\n",
    "    | LS -> Some TailLS\n",
    "    | LT -> Some TailLT\n",
    "    | LP -> Some TailLP\n",
    "    | LH -> Some TailLH\n",
    "    | M -> Some TailM\n",
    "    | B -> Some TailB\n",
    "    | BS -> Some TailBS\n",
    "    | S -> Some TailS\n",
    "    | SS -> Some TailSS\n",
    "    | ZS -> Some TailNG\n",
    "    | J -> Some TailJ\n",
    "    | C -> Some TailC\n",
    "    | K -> Some TailK\n",
    "    | T -> Some TailT\n",
    "    | P -> Some TailP\n",
    "    | H -> Some TailH\n",
    "    | _ -> None"
   ]
  },
  {
   "cell_type": "markdown",
   "metadata": {},
   "source": [
    "### lead"
   ]
  },
  {
   "cell_type": "code",
   "execution_count": null,
   "metadata": {
    "dotnet_interactive": {
     "language": "fsharp"
    },
    "polyglot_notebook": {
     "kernelName": "fsharp"
    }
   },
   "outputs": [],
   "source": [
    "let lead (r: int) =\n",
    "    match toLead r with\n",
    "    | Some l -> l\n",
    "    | None -> r"
   ]
  },
  {
   "cell_type": "markdown",
   "metadata": {},
   "source": [
    "### medial"
   ]
  },
  {
   "cell_type": "code",
   "execution_count": null,
   "metadata": {
    "dotnet_interactive": {
     "language": "fsharp"
    },
    "polyglot_notebook": {
     "kernelName": "fsharp"
    }
   },
   "outputs": [],
   "source": [
    "let medial (r: int) =\n",
    "    match toMedial r with\n",
    "    | Some m -> m\n",
    "    | None -> r"
   ]
  },
  {
   "cell_type": "markdown",
   "metadata": {},
   "source": [
    "### tail"
   ]
  },
  {
   "cell_type": "code",
   "execution_count": null,
   "metadata": {
    "dotnet_interactive": {
     "language": "fsharp"
    },
    "polyglot_notebook": {
     "kernelName": "fsharp"
    }
   },
   "outputs": [],
   "source": [
    "let tail (r: int) =\n",
    "    match toTail r with\n",
    "    | Some t -> t\n",
    "    | None -> r"
   ]
  },
  {
   "cell_type": "markdown",
   "metadata": {},
   "source": [
    "### join"
   ]
  },
  {
   "cell_type": "code",
   "execution_count": null,
   "metadata": {
    "dotnet_interactive": {
     "language": "fsharp"
    },
    "polyglot_notebook": {
     "kernelName": "fsharp"
    }
   },
   "outputs": [],
   "source": [
    "let join (l: char) (m: char) (t: char) =\n",
    "    let li, mi, ti = lead (int l), medial (int m), tail (int t)\n",
    "    match leadIdx li, medialIdx mi, tailIdx ti with\n",
    "    | Some li', Some mi', Some ti' -> char (0xAC00 + (li' * 21 + mi') * 28 + ti')\n",
    "    | _ -> char 0xFFFD"
   ]
  },
  {
   "cell_type": "code",
   "execution_count": null,
   "metadata": {
    "dotnet_interactive": {
     "language": "fsharp"
    },
    "polyglot_notebook": {
     "kernelName": "fsharp"
    }
   },
   "outputs": [],
   "source": [
    "//// test\n",
    "\n",
    "AssertAreEqual('서', join (char LeadS) (char MedialEO) (char 0))"
   ]
  },
  {
   "cell_type": "code",
   "execution_count": null,
   "metadata": {
    "dotnet_interactive": {
     "language": "fsharp"
    },
    "polyglot_notebook": {
     "kernelName": "fsharp"
    }
   },
   "outputs": [],
   "source": [
    "//// test\n",
    "\n",
    "AssertAreEqual('울', join (char LeadZS) (char MedialU) (char TailL))"
   ]
  },
  {
   "cell_type": "code",
   "execution_count": null,
   "metadata": {
    "dotnet_interactive": {
     "language": "fsharp"
    },
    "polyglot_notebook": {
     "kernelName": "fsharp"
    }
   },
   "outputs": [],
   "source": [
    "//// test\n",
    "\n",
    "AssertAreEqual('평', join (char LeadP) (char MedialYEO) (char TailNG))"
   ]
  },
  {
   "cell_type": "code",
   "execution_count": null,
   "metadata": {
    "dotnet_interactive": {
     "language": "fsharp"
    },
    "polyglot_notebook": {
     "kernelName": "fsharp"
    }
   },
   "outputs": [],
   "source": [
    "//// test\n",
    "\n",
    "AssertAreEqual('양', join (char LeadZS) (char MedialYA) (char TailNG))"
   ]
  },
  {
   "cell_type": "markdown",
   "metadata": {},
   "source": [
    "### split"
   ]
  },
  {
   "cell_type": "code",
   "execution_count": null,
   "metadata": {
    "dotnet_interactive": {
     "language": "fsharp"
    },
    "polyglot_notebook": {
     "kernelName": "fsharp"
    }
   },
   "outputs": [],
   "source": [
    "let split (c: char) =\n",
    "    let c' = int c\n",
    "    if c' < 0xAC00 || c' > 0xD7A3\n",
    "    then (char 0, char 0, char 0)\n",
    "    else\n",
    "        let syllableIndex = c' - 0xAC00\n",
    "        let lIndex = syllableIndex / (21 * 28)\n",
    "        let mIndex = (syllableIndex % (21 * 28)) / 28\n",
    "        let tIndex = syllableIndex % 28\n",
    "        let l = char (LeadG + lIndex)\n",
    "        let m = char (MedialA + mIndex)\n",
    "        let t =\n",
    "            if tIndex = 0 then char 0\n",
    "            else char (tailBase + tIndex - 1)\n",
    "        l, m, t"
   ]
  },
  {
   "cell_type": "code",
   "execution_count": null,
   "metadata": {
    "dotnet_interactive": {
     "language": "fsharp"
    },
    "polyglot_notebook": {
     "kernelName": "fsharp"
    }
   },
   "outputs": [],
   "source": [
    "//// test\n",
    "\n",
    "let i, m, t = split '자'\n",
    "AssertAreEqual(char LeadJ, i)\n",
    "AssertAreEqual(char MedialA, m)\n",
    "AssertAreEqual(char 0, t)"
   ]
  },
  {
   "cell_type": "markdown",
   "metadata": {},
   "source": [
    "### splitCompat"
   ]
  },
  {
   "cell_type": "code",
   "execution_count": null,
   "metadata": {
    "dotnet_interactive": {
     "language": "fsharp"
    },
    "polyglot_notebook": {
     "kernelName": "fsharp"
    }
   },
   "outputs": [],
   "source": [
    "let splitCompat (c: char) =\n",
    "    let l, m, t = split c\n",
    "    compatJamo l, compatJamo m, compatJamo t"
   ]
  },
  {
   "cell_type": "code",
   "execution_count": null,
   "metadata": {
    "dotnet_interactive": {
     "language": "fsharp"
    },
    "polyglot_notebook": {
     "kernelName": "fsharp"
    }
   },
   "outputs": [],
   "source": [
    "//// test\n",
    "\n",
    "let l, m, t = splitCompat '한'\n",
    "AssertAreEqual(char H |> Some, l)\n",
    "AssertAreEqual(char A |> Some, m)\n",
    "AssertAreEqual(char N |> Some, t)"
   ]
  },
  {
   "cell_type": "markdown",
   "metadata": {},
   "source": [
    "### strokeMap"
   ]
  },
  {
   "cell_type": "code",
   "execution_count": null,
   "metadata": {
    "dotnet_interactive": {
     "language": "fsharp"
    },
    "polyglot_notebook": {
     "kernelName": "fsharp"
    }
   },
   "outputs": [],
   "source": [
    "let strokeMap =\n",
    "    Map.ofList [\n",
    "        (G, 1); (N, 1); (D, 2); (L, 3); (M, 3); (B, 4); (S, 2); (ZS, 1);\n",
    "        (J, 3); (C, 4); (K, 2); (T, 3); (P, 4); (H, 3); (A, 2); (YA, 3);\n",
    "        (EO, 2); (YEO, 3); (O, 2); (YO, 3); (U, 2); (YU, 3); (EU, 1); (I, 1)\n",
    "    ]"
   ]
  },
  {
   "cell_type": "markdown",
   "metadata": {},
   "source": [
    "### multiElementMap"
   ]
  },
  {
   "cell_type": "code",
   "execution_count": null,
   "metadata": {
    "dotnet_interactive": {
     "language": "fsharp"
    },
    "polyglot_notebook": {
     "kernelName": "fsharp"
    }
   },
   "outputs": [],
   "source": [
    "let multiElementMap =\n",
    "    Map.ofList [\n",
    "        (GG, [|G; G|]); (GS, [|G; S|]); (NJ, [|N; J|]); (NH, [|N; H|]);\n",
    "        (DD, [|D; D|]); (LG, [|L; G|]); (LM, [|L; M|]); (LB, [|L; B|]);\n",
    "        (LS, [|L; S|]); (LT, [|L; T|]); (LP, [|L; P|]); (LH, [|L; H|]);\n",
    "        (BB, [|B; B|]); (BS, [|B; S|]); (SS, [|S; S|]); (JJ, [|J; J|]);\n",
    "        (AE, [|A; I|]); (E, [|EO; I|]); (YAE, [|YA; I|]); (YE, [|YEO; I|]);\n",
    "        (WA, [|O; A|]); (WAE, [|O; A; I|]); (OE, [|O; I|]); (WEO, [|U; EO|]);\n",
    "        (WE, [|U; E|]); (WI, [|U; I|]); (YI, [|EU; I|])\n",
    "    ]"
   ]
  },
  {
   "cell_type": "markdown",
   "metadata": {},
   "source": [
    "### splitMultiElement"
   ]
  },
  {
   "cell_type": "code",
   "execution_count": null,
   "metadata": {
    "dotnet_interactive": {
     "language": "fsharp"
    },
    "polyglot_notebook": {
     "kernelName": "fsharp"
    }
   },
   "outputs": [],
   "source": [
    "let splitMultiElement (c: char) =\n",
    "    let c' = int (compatJamo c |> Option.defaultValue (char 0))\n",
    "    multiElementMap.TryFind(c')"
   ]
  },
  {
   "cell_type": "markdown",
   "metadata": {},
   "source": [
    "### stroke"
   ]
  },
  {
   "cell_type": "code",
   "execution_count": null,
   "metadata": {
    "dotnet_interactive": {
     "language": "fsharp"
    },
    "polyglot_notebook": {
     "kernelName": "fsharp"
    }
   },
   "outputs": [],
   "source": [
    "let rec stroke (r: char) =\n",
    "    let r' = int r\n",
    "    if r' >= 0xAC00 && r' <= 0xD7A3 then\n",
    "        let l, m, t = split r\n",
    "        stroke l + stroke m + stroke t\n",
    "    else\n",
    "        let jm = int (compatJamo r |> Option.defaultValue (char 0))\n",
    "        match multiElementMap.TryFind(jm) with\n",
    "        | Some elements -> elements |> Array.sumBy (fun e -> strokeMap.[e])\n",
    "        | None -> strokeMap.TryFind(jm) |> Option.defaultValue 0"
   ]
  },
  {
   "cell_type": "code",
   "execution_count": null,
   "metadata": {
    "dotnet_interactive": {
     "language": "fsharp"
    },
    "polyglot_notebook": {
     "kernelName": "fsharp"
    }
   },
   "outputs": [],
   "source": [
    "//// test\n",
    "\n",
    "AssertAreEqual(5, stroke '세')"
   ]
  },
  {
   "cell_type": "code",
   "execution_count": null,
   "metadata": {
    "dotnet_interactive": {
     "language": "fsharp"
    },
    "polyglot_notebook": {
     "kernelName": "fsharp"
    }
   },
   "outputs": [],
   "source": [
    "//// test\n",
    "\n",
    "AssertAreEqual(5, stroke '상')"
   ]
  },
  {
   "cell_type": "code",
   "execution_count": null,
   "metadata": {
    "dotnet_interactive": {
     "language": "fsharp"
    },
    "polyglot_notebook": {
     "kernelName": "fsharp"
    }
   },
   "outputs": [],
   "source": [
    "//// test\n",
    "\n",
    "AssertAreEqual(3, stroke '아')"
   ]
  },
  {
   "cell_type": "code",
   "execution_count": null,
   "metadata": {
    "dotnet_interactive": {
     "language": "fsharp"
    },
    "polyglot_notebook": {
     "kernelName": "fsharp"
    }
   },
   "outputs": [],
   "source": [
    "//// test\n",
    "\n",
    "AssertAreEqual(0, stroke ' ')"
   ]
  },
  {
   "cell_type": "code",
   "execution_count": null,
   "metadata": {
    "dotnet_interactive": {
     "language": "fsharp"
    },
    "polyglot_notebook": {
     "kernelName": "fsharp"
    }
   },
   "outputs": [],
   "source": [
    "//// test\n",
    "\n",
    "AssertAreEqual(4, stroke '안')"
   ]
  },
  {
   "cell_type": "code",
   "execution_count": null,
   "metadata": {
    "dotnet_interactive": {
     "language": "fsharp"
    },
    "polyglot_notebook": {
     "kernelName": "fsharp"
    }
   },
   "outputs": [],
   "source": [
    "//// test\n",
    "\n",
    "AssertAreEqual(5, stroke '녕')"
   ]
  },
  {
   "cell_type": "code",
   "execution_count": null,
   "metadata": {
    "dotnet_interactive": {
     "language": "fsharp"
    },
    "polyglot_notebook": {
     "kernelName": "fsharp"
    }
   },
   "outputs": [],
   "source": [
    "//// test\n",
    "\n",
    "AssertAreEqual(6, stroke (char JJ))"
   ]
  },
  {
   "cell_type": "code",
   "execution_count": null,
   "metadata": {
    "dotnet_interactive": {
     "language": "fsharp"
    },
    "polyglot_notebook": {
     "kernelName": "fsharp"
    }
   },
   "outputs": [],
   "source": [
    "//// test\n",
    "\n",
    "AssertAreEqual(4, stroke (char YAE))"
   ]
  },
  {
   "cell_type": "code",
   "execution_count": null,
   "metadata": {
    "dotnet_interactive": {
     "language": "fsharp"
    },
    "polyglot_notebook": {
     "kernelName": "fsharp"
    }
   },
   "outputs": [],
   "source": [
    "//// test\n",
    "\n",
    "AssertAreEqual(5, stroke (char WAE))"
   ]
  },
  {
   "cell_type": "markdown",
   "metadata": {},
   "source": [
    "### endsWithConsonant"
   ]
  },
  {
   "cell_type": "code",
   "execution_count": null,
   "metadata": {
    "dotnet_interactive": {
     "language": "fsharp"
    },
    "polyglot_notebook": {
     "kernelName": "fsharp"
    }
   },
   "outputs": [],
   "source": [
    "let endsWithConsonant (s: string) =\n",
    "    if String.IsNullOrEmpty(s) then false\n",
    "    else\n",
    "        let lastChar = s.[s.Length - 1]\n",
    "        if not (isHangul lastChar) then false\n",
    "        else\n",
    "            let _, _, t = split lastChar\n",
    "            t <> char 0"
   ]
  },
  {
   "cell_type": "code",
   "execution_count": null,
   "metadata": {
    "dotnet_interactive": {
     "language": "fsharp"
    },
    "polyglot_notebook": {
     "kernelName": "fsharp"
    }
   },
   "outputs": [],
   "source": [
    "//// test\n",
    "\n",
    "AssertIsTrue(endsWithConsonant \"강\")"
   ]
  },
  {
   "cell_type": "code",
   "execution_count": null,
   "metadata": {
    "dotnet_interactive": {
     "language": "fsharp"
    },
    "polyglot_notebook": {
     "kernelName": "fsharp"
    }
   },
   "outputs": [],
   "source": [
    "//// test\n",
    "\n",
    "AssertIsFalse(endsWithConsonant \"물고기\")"
   ]
  },
  {
   "cell_type": "markdown",
   "metadata": {},
   "source": [
    "### lastConsonant"
   ]
  },
  {
   "cell_type": "code",
   "execution_count": null,
   "metadata": {
    "dotnet_interactive": {
     "language": "fsharp"
    },
    "polyglot_notebook": {
     "kernelName": "fsharp"
    }
   },
   "outputs": [],
   "source": [
    "let lastConsonant (s: string) =\n",
    "    if String.IsNullOrEmpty(s) then char 0\n",
    "    else\n",
    "        let lastChar = s.[s.Length - 1]\n",
    "        if not (isHangul lastChar) then char 0\n",
    "        else\n",
    "            let _, _, t = split lastChar\n",
    "            t"
   ]
  },
  {
   "cell_type": "code",
   "execution_count": null,
   "metadata": {
    "dotnet_interactive": {
     "language": "fsharp"
    },
    "polyglot_notebook": {
     "kernelName": "fsharp"
    }
   },
   "outputs": [],
   "source": [
    "//// test\n",
    "\n",
    "AssertAreEqual(int (char TailNG), int (lastConsonant \"강\"))"
   ]
  },
  {
   "cell_type": "code",
   "execution_count": null,
   "metadata": {
    "dotnet_interactive": {
     "language": "fsharp"
    },
    "polyglot_notebook": {
     "kernelName": "fsharp"
    }
   },
   "outputs": [],
   "source": [
    "//// test\n",
    "\n",
    "AssertAreEqual(char 0, lastConsonant \"물고기\")"
   ]
  },
  {
   "cell_type": "markdown",
   "metadata": {},
   "source": [
    "### appendPostposition"
   ]
  },
  {
   "cell_type": "code",
   "execution_count": null,
   "metadata": {
    "dotnet_interactive": {
     "language": "fsharp"
    },
    "polyglot_notebook": {
     "kernelName": "fsharp"
    }
   },
   "outputs": [],
   "source": [
    "let appendPostposition (s: string) (withConsonant: string) (withoutConsonant: string) =\n",
    "    let lastTail = lastConsonant s\n",
    "    if int lastTail <> 0 then\n",
    "        if withConsonant = \"으로\" && int lastTail = TailL then\n",
    "            s + withoutConsonant\n",
    "        else\n",
    "            s + withConsonant\n",
    "    else\n",
    "        s + withoutConsonant"
   ]
  },
  {
   "cell_type": "code",
   "execution_count": null,
   "metadata": {
    "dotnet_interactive": {
     "language": "fsharp"
    },
    "polyglot_notebook": {
     "kernelName": "fsharp"
    }
   },
   "outputs": [],
   "source": [
    "//// test\n",
    "\n",
    "AssertAreEqual(\"강이\", appendPostposition \"강\" \"이\" \"가\")"
   ]
  },
  {
   "cell_type": "code",
   "execution_count": null,
   "metadata": {
    "dotnet_interactive": {
     "language": "fsharp"
    },
    "polyglot_notebook": {
     "kernelName": "fsharp"
    }
   },
   "outputs": [],
   "source": [
    "//// test\n",
    "\n",
    "AssertAreEqual(\"물고기는\", appendPostposition \"물고기\" \"은\" \"는\")"
   ]
  },
  {
   "cell_type": "code",
   "execution_count": null,
   "metadata": {
    "dotnet_interactive": {
     "language": "fsharp"
    },
    "polyglot_notebook": {
     "kernelName": "fsharp"
    }
   },
   "outputs": [],
   "source": [
    "//// test\n",
    "\n",
    "AssertAreEqual(\"집으로\", appendPostposition \"집\" \"으로\" \"로\")"
   ]
  },
  {
   "cell_type": "code",
   "execution_count": null,
   "metadata": {
    "dotnet_interactive": {
     "language": "fsharp"
    },
    "polyglot_notebook": {
     "kernelName": "fsharp"
    }
   },
   "outputs": [],
   "source": [
    "//// test\n",
    "\n",
    "AssertAreEqual(\"서울로\", appendPostposition \"서울\" \"으로\" \"로\")"
   ]
  },
  {
   "cell_type": "markdown",
   "metadata": {},
   "source": [
    "## CP949"
   ]
  },
  {
   "cell_type": "code",
   "execution_count": null,
   "metadata": {
    "dotnet_interactive": {
     "language": "fsharp"
    },
    "polyglot_notebook": {
     "kernelName": "fsharp"
    }
   },
   "outputs": [],
   "source": [
    "// type LookupItem = { cp949: int; ucs2: int }\n",
    "\n",
    "#!import ../../../alphabet/apps/hangul/cp949.fs"
   ]
  },
  {
   "cell_type": "code",
   "execution_count": null,
   "metadata": {
    "dotnet_interactive": {
     "language": "fsharp"
    },
    "polyglot_notebook": {
     "kernelName": "fsharp"
    }
   },
   "outputs": [],
   "source": [
    "// let cp949FromTable : LookupItem[] =\n",
    "//     [|\n",
    "//         { cp949 = 0x8141; ucs2 = 0xac02 };\n",
    "//         { cp949 = 0x8142; ucs2 = 0xac03 };\n",
    "//         // (...)\n",
    "//         { cp949 = 0xfdfd; ucs2 = 0x7fb2 };\n",
    "//         { cp949 = 0xfdfe; ucs2 = 0x8a70 };\n",
    "//     |]\n",
    "\n",
    "#!import ../../../alphabet/apps/hangul/cp949_from.fs"
   ]
  },
  {
   "cell_type": "code",
   "execution_count": null,
   "metadata": {
    "dotnet_interactive": {
     "language": "fsharp"
    },
    "polyglot_notebook": {
     "kernelName": "fsharp"
    }
   },
   "outputs": [],
   "source": [
    "// let cp949ToTable : LookupItem[] =\n",
    "//     [|\n",
    "//         { ucs2 = 0x00a1; cp949 = 0xa2ae };\n",
    "//         { ucs2 = 0x00a4; cp949 = 0xa2b4 };\n",
    "//         // (...)\n",
    "//         { ucs2 = 0xffe5; cp949 = 0xa1cd };\n",
    "//         { ucs2 = 0xffe6; cp949 = 0xa3dc };\n",
    "//     |]\n",
    "\n",
    "#!import ../../../alphabet/apps/hangul/cp949_to.fs"
   ]
  },
  {
   "cell_type": "markdown",
   "metadata": {},
   "source": [
    "### binarySearch"
   ]
  },
  {
   "cell_type": "code",
   "execution_count": null,
   "metadata": {
    "dotnet_interactive": {
     "language": "fsharp"
    },
    "polyglot_notebook": {
     "kernelName": "fsharp"
    }
   },
   "outputs": [],
   "source": [
    "let binarySearch (length: int) (predicate: int -> bool) =\n",
    "    let rec search low high =\n",
    "        if low >= high then\n",
    "            low\n",
    "        else\n",
    "            let mid = low + (high - low) / 2\n",
    "            if predicate mid then\n",
    "                search low mid\n",
    "            else\n",
    "                search (mid + 1) high\n",
    "    search 0 length"
   ]
  },
  {
   "cell_type": "code",
   "execution_count": null,
   "metadata": {
    "dotnet_interactive": {
     "language": "fsharp"
    },
    "polyglot_notebook": {
     "kernelName": "fsharp"
    }
   },
   "outputs": [],
   "source": [
    "//// test\n",
    "\n",
    "let sortedArray1 = [| 10; 20; 30; 40; 50 |]\n",
    "let predicate1 i = sortedArray1.[i] >= 30\n",
    "let index1 = binarySearch sortedArray1.Length predicate1\n",
    "AssertAreEqual(2, index1)\n",
    "AssertAreEqual(30, sortedArray1.[index1])"
   ]
  },
  {
   "cell_type": "code",
   "execution_count": null,
   "metadata": {
    "dotnet_interactive": {
     "language": "fsharp"
    },
    "polyglot_notebook": {
     "kernelName": "fsharp"
    }
   },
   "outputs": [],
   "source": [
    "//// test\n",
    "\n",
    "let sortedArray2 = [| 10; 20; 30; 40; 50 |]\n",
    "let predicate2 i = sortedArray2.[i] >= 35\n",
    "let index2 = binarySearch sortedArray2.Length predicate2\n",
    "AssertAreEqual(3, index2)\n",
    "AssertAreEqual(40, sortedArray2.[index2])"
   ]
  },
  {
   "cell_type": "code",
   "execution_count": null,
   "metadata": {
    "dotnet_interactive": {
     "language": "fsharp"
    },
    "polyglot_notebook": {
     "kernelName": "fsharp"
    }
   },
   "outputs": [],
   "source": [
    "//// test\n",
    "\n",
    "let sortedArray3 = [| 10; 20; 30; 40; 50 |]\n",
    "let predicate3 i = sortedArray3.[i] >= 5\n",
    "let index3 = binarySearch sortedArray3.Length predicate3\n",
    "AssertAreEqual(0, index3)"
   ]
  },
  {
   "cell_type": "code",
   "execution_count": null,
   "metadata": {
    "dotnet_interactive": {
     "language": "fsharp"
    },
    "polyglot_notebook": {
     "kernelName": "fsharp"
    }
   },
   "outputs": [],
   "source": [
    "//// test\n",
    "\n",
    "let sortedArray4 = [| 10; 20; 30; 40; 50 |]\n",
    "let predicate4 i = sortedArray4.[i] >= 60\n",
    "let index4 = binarySearch sortedArray4.Length predicate4\n",
    "AssertAreEqual(5, index4)"
   ]
  },
  {
   "cell_type": "markdown",
   "metadata": {},
   "source": [
    "### fromCp949"
   ]
  },
  {
   "cell_type": "code",
   "execution_count": null,
   "metadata": {
    "dotnet_interactive": {
     "language": "fsharp"
    },
    "polyglot_notebook": {
     "kernelName": "fsharp"
    }
   },
   "outputs": [],
   "source": [
    "let fromCp949 (data: byte[]) =\n",
    "    let rec processBytes bytes =\n",
    "        match bytes with\n",
    "        | [] -> []\n",
    "        | b1 :: rest when b1 < 0x80uy ->\n",
    "            char b1 :: processBytes rest\n",
    "        | b1 :: b2 :: rest ->\n",
    "            let cp949code = (uint16 b1 <<< 8) ||| uint16 b2\n",
    "            let predicate i = cp949FromTable.[i].cp949 >= int cp949code\n",
    "            let idx = binarySearch cp949FromTable.Length predicate\n",
    "            let charToYield =\n",
    "                if idx < cp949FromTable.Length && cp949FromTable.[idx].cp949 = int cp949code then\n",
    "                    char cp949FromTable.[idx].ucs2\n",
    "                else\n",
    "                    char 0xFFFD\n",
    "            charToYield :: processBytes rest\n",
    "        | _ -> [char 0xFFFD]\n",
    "    data |> Array.toList |> processBytes |> List.toArray |> System.String"
   ]
  },
  {
   "cell_type": "code",
   "execution_count": null,
   "metadata": {
    "dotnet_interactive": {
     "language": "fsharp"
    },
    "polyglot_notebook": {
     "kernelName": "fsharp"
    }
   },
   "outputs": [],
   "source": [
    "//// test\n",
    "\n",
    "let cp949Bytes = [|0xb0; 0xa1; 0xb0; 0xa2|] |> Array.map byte\n",
    "AssertAreEqual(\"가각\", fromCp949 cp949Bytes)"
   ]
  },
  {
   "cell_type": "markdown",
   "metadata": {},
   "source": [
    "### toCp949"
   ]
  },
  {
   "cell_type": "code",
   "execution_count": null,
   "metadata": {
    "dotnet_interactive": {
     "language": "fsharp"
    },
    "polyglot_notebook": {
     "kernelName": "fsharp"
    }
   },
   "outputs": [],
   "source": [
    "let toCp949 (s: string) =\n",
    "    s\n",
    "    |> Seq.collect (fun c ->\n",
    "        let ucs2code = uint16 c\n",
    "        if ucs2code < 0x80us then\n",
    "            [| byte ucs2code |]\n",
    "        else\n",
    "            let predicate i = cp949ToTable.[i].ucs2 >= int ucs2code\n",
    "            let idx = binarySearch cp949ToTable.Length predicate\n",
    "\n",
    "            if idx < cp949ToTable.Length && cp949ToTable.[idx].ucs2 = int ucs2code then\n",
    "                let cp949code = cp949ToTable.[idx].cp949\n",
    "                [| byte (cp949code >>> 8); byte (cp949code &&& 0xFF) |]\n",
    "            else\n",
    "                [| byte 0x3F |]\n",
    "    )\n",
    "    |> Seq.toArray"
   ]
  },
  {
   "cell_type": "code",
   "execution_count": null,
   "metadata": {
    "dotnet_interactive": {
     "language": "fsharp"
    },
    "polyglot_notebook": {
     "kernelName": "fsharp"
    }
   },
   "outputs": [],
   "source": [
    "//// test\n",
    "\n",
    "let utf8String = \"가각\"\n",
    "let expectedBytes = [|0xb0; 0xa1; 0xb0; 0xa2|] |> Array.map byte\n",
    "AssertAreEqual(expectedBytes, toCp949 utf8String)"
   ]
  },
  {
   "cell_type": "code",
   "execution_count": null,
   "metadata": {
    "dotnet_interactive": {
     "language": "fsharp"
    },
    "polyglot_notebook": {
     "kernelName": "fsharp"
    }
   },
   "outputs": [],
   "source": [
    "//// test\n",
    "\n",
    "let utf8String2 = \"Hello, 안녕\"\n",
    "let expectedBytes2 =\n",
    "    [|\n",
    "        0x48; 0x65; 0x6c; 0x6c; 0x6f; 0x2c; 0x20;\n",
    "        0xbe; 0xc8;\n",
    "        0xb3; 0xe7\n",
    "    |] |> Array.map byte\n",
    "AssertAreEqual(expectedBytes2, toCp949 utf8String2)"
   ]
  },
  {
   "cell_type": "code",
   "execution_count": null,
   "metadata": {
    "dotnet_interactive": {
     "language": "fsharp"
    },
    "polyglot_notebook": {
     "kernelName": "fsharp"
    }
   },
   "outputs": [],
   "source": [
    "//// test\n",
    "\n",
    "let utf8String3 = \"—\"\n",
    "let expectedBytes3 = [| byte 0x3F |]\n",
    "AssertAreEqual(expectedBytes3, toCp949 utf8String3)"
   ]
  }
 ],
 "metadata": {},
 "nbformat": 4,
 "nbformat_minor": 5
}